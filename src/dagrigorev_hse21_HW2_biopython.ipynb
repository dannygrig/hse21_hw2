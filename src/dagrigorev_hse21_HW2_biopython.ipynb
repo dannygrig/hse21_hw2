{
  "nbformat": 4,
  "nbformat_minor": 0,
  "metadata": {
    "colab": {
      "name": "dagrigorev_hse21_HW2_biopython.ipynb",
      "provenance": [],
      "collapsed_sections": []
    },
    "kernelspec": {
      "name": "python3",
      "display_name": "Python 3"
    },
    "language_info": {
      "name": "python"
    }
  },
  "cells": [
    {
      "cell_type": "markdown",
      "source": [
        "# Скачиваем данные и устанавливаем программы"
      ],
      "metadata": {
        "id": "WJ71oQTxShEj"
      }
    },
    {
      "cell_type": "code",
      "source": [
        "!wget https://raw.githubusercontent.com/dannygrig/hse21_hw2/main/data/gms2.lst"
      ],
      "metadata": {
        "id": "fWSU9pxNTOSR",
        "colab": {
          "base_uri": "https://localhost:8080/"
        },
        "outputId": "e01ca4a1-87f6-4ade-c141-9b106c259ead"
      },
      "execution_count": 1,
      "outputs": [
        {
          "output_type": "stream",
          "name": "stdout",
          "text": [
            "--2021-12-19 19:33:27--  https://raw.githubusercontent.com/dannygrig/hse21_hw2/main/data/gms2.lst\n",
            "Resolving raw.githubusercontent.com (raw.githubusercontent.com)... 185.199.108.133, 185.199.109.133, 185.199.110.133, ...\n",
            "Connecting to raw.githubusercontent.com (raw.githubusercontent.com)|185.199.108.133|:443... connected.\n",
            "HTTP request sent, awaiting response... 200 OK\n",
            "Length: 220126 (215K) [text/plain]\n",
            "Saving to: ‘gms2.lst’\n",
            "\n",
            "\rgms2.lst              0%[                    ]       0  --.-KB/s               \rgms2.lst            100%[===================>] 214.97K  --.-KB/s    in 0.004s  \n",
            "\n",
            "2021-12-19 19:33:27 (50.3 MB/s) - ‘gms2.lst’ saved [220126/220126]\n",
            "\n"
          ]
        }
      ]
    },
    {
      "cell_type": "code",
      "source": [
        "!wget https://raw.githubusercontent.com/dannygrig/hse21_hw1/main/data/Poil_scaffold.fa"
      ],
      "metadata": {
        "id": "yWoD0myNTVi8",
        "colab": {
          "base_uri": "https://localhost:8080/"
        },
        "outputId": "3c7b2b7d-e685-4842-e4a5-e5226b74d2d6"
      },
      "execution_count": 2,
      "outputs": [
        {
          "output_type": "stream",
          "name": "stdout",
          "text": [
            "--2021-12-19 19:33:27--  https://raw.githubusercontent.com/dannygrig/hse21_hw1/main/data/Poil_scaffold.fa\n",
            "Resolving raw.githubusercontent.com (raw.githubusercontent.com)... 185.199.108.133, 185.199.109.133, 185.199.110.133, ...\n",
            "Connecting to raw.githubusercontent.com (raw.githubusercontent.com)|185.199.108.133|:443... connected.\n",
            "HTTP request sent, awaiting response... 200 OK\n",
            "Length: 3924410 (3.7M) [text/plain]\n",
            "Saving to: ‘Poil_scaffold.fa’\n",
            "\n",
            "\rPoil_scaffold.fa      0%[                    ]       0  --.-KB/s               \rPoil_scaffold.fa    100%[===================>]   3.74M  --.-KB/s    in 0.02s   \n",
            "\n",
            "2021-12-19 19:33:27 (165 MB/s) - ‘Poil_scaffold.fa’ saved [3924410/3924410]\n",
            "\n"
          ]
        }
      ]
    },
    {
      "cell_type": "code",
      "source": [
        "!wget https://raw.githubusercontent.com/dannygrig/hse21_hw2/main/data/proteins.fasta"
      ],
      "metadata": {
        "id": "FkuulZekTbh9",
        "colab": {
          "base_uri": "https://localhost:8080/"
        },
        "outputId": "4da6187c-08e6-4524-d2cc-2f9bd9c98f26"
      },
      "execution_count": 3,
      "outputs": [
        {
          "output_type": "stream",
          "name": "stdout",
          "text": [
            "--2021-12-19 19:33:27--  https://raw.githubusercontent.com/dannygrig/hse21_hw2/main/data/proteins.fasta\n",
            "Resolving raw.githubusercontent.com (raw.githubusercontent.com)... 185.199.108.133, 185.199.109.133, 185.199.110.133, ...\n",
            "Connecting to raw.githubusercontent.com (raw.githubusercontent.com)|185.199.108.133|:443... connected.\n",
            "HTTP request sent, awaiting response... 200 OK\n",
            "Length: 1426727 (1.4M) [text/plain]\n",
            "Saving to: ‘proteins.fasta’\n",
            "\n",
            "\rproteins.fasta        0%[                    ]       0  --.-KB/s               \rproteins.fasta      100%[===================>]   1.36M  --.-KB/s    in 0.01s   \n",
            "\n",
            "2021-12-19 19:33:27 (117 MB/s) - ‘proteins.fasta’ saved [1426727/1426727]\n",
            "\n"
          ]
        }
      ]
    },
    {
      "cell_type": "code",
      "source": [
        "!wget https://raw.githubusercontent.com/dannygrig/hse21_hw2/main/data/scaffolds.hits_from_MIL_1.txt"
      ],
      "metadata": {
        "id": "wljcApdJTjGr",
        "colab": {
          "base_uri": "https://localhost:8080/"
        },
        "outputId": "c062e0ca-519b-4309-e991-152fb8a81cff"
      },
      "execution_count": 4,
      "outputs": [
        {
          "output_type": "stream",
          "name": "stdout",
          "text": [
            "--2021-12-19 19:33:27--  https://raw.githubusercontent.com/dannygrig/hse21_hw2/main/data/scaffolds.hits_from_MIL_1.txt\n",
            "Resolving raw.githubusercontent.com (raw.githubusercontent.com)... 185.199.111.133, 185.199.108.133, 185.199.109.133, ...\n",
            "Connecting to raw.githubusercontent.com (raw.githubusercontent.com)|185.199.111.133|:443... connected.\n",
            "HTTP request sent, awaiting response... 200 OK\n",
            "Length: 833620 (814K) [text/plain]\n",
            "Saving to: ‘scaffolds.hits_from_MIL_1.txt’\n",
            "\n",
            "\r          scaffolds   0%[                    ]       0  --.-KB/s               \rscaffolds.hits_from 100%[===================>] 814.08K  --.-KB/s    in 0.02s   \n",
            "\n",
            "2021-12-19 19:33:27 (48.7 MB/s) - ‘scaffolds.hits_from_MIL_1.txt’ saved [833620/833620]\n",
            "\n"
          ]
        }
      ]
    },
    {
      "cell_type": "code",
      "source": [
        "!wget https://raw.githubusercontent.com/dannygrig/hse21_hw2/main/data/scaffolds.hits_from_SwissProt.txt"
      ],
      "metadata": {
        "id": "7ZGyVtAfTopz",
        "colab": {
          "base_uri": "https://localhost:8080/"
        },
        "outputId": "ad04d886-0aba-458a-a38d-0f9fb671aaff"
      },
      "execution_count": 5,
      "outputs": [
        {
          "output_type": "stream",
          "name": "stdout",
          "text": [
            "--2021-12-19 19:33:27--  https://raw.githubusercontent.com/dannygrig/hse21_hw2/main/data/scaffolds.hits_from_SwissProt.txt\n",
            "Resolving raw.githubusercontent.com (raw.githubusercontent.com)... 185.199.111.133, 185.199.109.133, 185.199.110.133, ...\n",
            "Connecting to raw.githubusercontent.com (raw.githubusercontent.com)|185.199.111.133|:443... connected.\n",
            "HTTP request sent, awaiting response... 200 OK\n",
            "Length: 65267 (64K) [text/plain]\n",
            "Saving to: ‘scaffolds.hits_from_SwissProt.txt’\n",
            "\n",
            "\r          scaffolds   0%[                    ]       0  --.-KB/s               \rscaffolds.hits_from 100%[===================>]  63.74K  --.-KB/s    in 0.002s  \n",
            "\n",
            "2021-12-19 19:33:28 (37.7 MB/s) - ‘scaffolds.hits_from_SwissProt.txt’ saved [65267/65267]\n",
            "\n"
          ]
        }
      ]
    },
    {
      "cell_type": "markdown",
      "metadata": {
        "id": "EkEflOHmCHHW"
      },
      "source": [
        "## Скачиваем геном близкородственной бактерии T.oleivorans"
      ]
    },
    {
      "cell_type": "markdown",
      "metadata": {
        "id": "noBYTW1bRH9O"
      },
      "source": [
        "Геном, последовательности генов (нт) и белков (протеом) для бактерии Thalassolituus oleivorans MIL-1\n",
        "https://www.ncbi.nlm.nih.gov/nuccore/HF680312"
      ]
    },
    {
      "cell_type": "code",
      "source": [
        "!sh -c \"$(curl -fsSL ftp://ftp.ncbi.nlm.nih.gov/entrez/entrezdirect/install-edirect.sh)\""
      ],
      "metadata": {
        "id": "bqv3FR5efmk6",
        "colab": {
          "base_uri": "https://localhost:8080/"
        },
        "outputId": "f7b5cade-38f7-4116-ffc5-7e732e958c88"
      },
      "execution_count": 6,
      "outputs": [
        {
          "output_type": "stream",
          "name": "stdout",
          "text": [
            "\n",
            "Entrez Direct has been successfully downloaded and installed.\n",
            "\n",
            "In order to complete the configuration process, please execute the following:\n",
            "\n",
            "  echo \"export PATH=\\${PATH}:/root/edirect\" >> ${HOME}/.bashrc\n",
            "\n",
            "or manually edit the PATH variable assignment in your .bashrc file.\n",
            "\n",
            "Would you like to do that automatically now? [y/N]\n",
            "y\n",
            "OK, done.\n",
            "\n",
            "To activate EDirect for this terminal session, please execute the following:\n",
            "\n",
            "export PATH=${PATH}:${HOME}/edirect\n",
            "\n"
          ]
        }
      ]
    },
    {
      "cell_type": "code",
      "source": [
        "!$HOME/edirect/efetch -db nuccore -id HF680312 -format gb  >  T_oleivorans_MIL_1.gbk"
      ],
      "metadata": {
        "id": "4O3-rUx4fvbw"
      },
      "execution_count": 7,
      "outputs": []
    },
    {
      "cell_type": "code",
      "metadata": {
        "id": "j2uga-mieSB6",
        "colab": {
          "base_uri": "https://localhost:8080/"
        },
        "outputId": "fe6227ff-2ad4-48e0-e814-97db15018652"
      },
      "source": [
        "!pip install biopython"
      ],
      "execution_count": 8,
      "outputs": [
        {
          "output_type": "stream",
          "name": "stdout",
          "text": [
            "Collecting biopython\n",
            "  Downloading biopython-1.79-cp37-cp37m-manylinux_2_5_x86_64.manylinux1_x86_64.whl (2.3 MB)\n",
            "\u001b[?25l\r\u001b[K     |▏                               | 10 kB 21.8 MB/s eta 0:00:01\r\u001b[K     |▎                               | 20 kB 25.5 MB/s eta 0:00:01\r\u001b[K     |▍                               | 30 kB 31.1 MB/s eta 0:00:01\r\u001b[K     |▋                               | 40 kB 21.7 MB/s eta 0:00:01\r\u001b[K     |▊                               | 51 kB 20.2 MB/s eta 0:00:01\r\u001b[K     |▉                               | 61 kB 18.1 MB/s eta 0:00:01\r\u001b[K     |█                               | 71 kB 16.1 MB/s eta 0:00:01\r\u001b[K     |█▏                              | 81 kB 17.1 MB/s eta 0:00:01\r\u001b[K     |█▎                              | 92 kB 18.3 MB/s eta 0:00:01\r\u001b[K     |█▍                              | 102 kB 19.5 MB/s eta 0:00:01\r\u001b[K     |█▋                              | 112 kB 19.5 MB/s eta 0:00:01\r\u001b[K     |█▊                              | 122 kB 19.5 MB/s eta 0:00:01\r\u001b[K     |█▉                              | 133 kB 19.5 MB/s eta 0:00:01\r\u001b[K     |██                              | 143 kB 19.5 MB/s eta 0:00:01\r\u001b[K     |██▏                             | 153 kB 19.5 MB/s eta 0:00:01\r\u001b[K     |██▎                             | 163 kB 19.5 MB/s eta 0:00:01\r\u001b[K     |██▍                             | 174 kB 19.5 MB/s eta 0:00:01\r\u001b[K     |██▋                             | 184 kB 19.5 MB/s eta 0:00:01\r\u001b[K     |██▊                             | 194 kB 19.5 MB/s eta 0:00:01\r\u001b[K     |██▉                             | 204 kB 19.5 MB/s eta 0:00:01\r\u001b[K     |███                             | 215 kB 19.5 MB/s eta 0:00:01\r\u001b[K     |███▏                            | 225 kB 19.5 MB/s eta 0:00:01\r\u001b[K     |███▎                            | 235 kB 19.5 MB/s eta 0:00:01\r\u001b[K     |███▌                            | 245 kB 19.5 MB/s eta 0:00:01\r\u001b[K     |███▋                            | 256 kB 19.5 MB/s eta 0:00:01\r\u001b[K     |███▊                            | 266 kB 19.5 MB/s eta 0:00:01\r\u001b[K     |███▉                            | 276 kB 19.5 MB/s eta 0:00:01\r\u001b[K     |████                            | 286 kB 19.5 MB/s eta 0:00:01\r\u001b[K     |████▏                           | 296 kB 19.5 MB/s eta 0:00:01\r\u001b[K     |████▎                           | 307 kB 19.5 MB/s eta 0:00:01\r\u001b[K     |████▌                           | 317 kB 19.5 MB/s eta 0:00:01\r\u001b[K     |████▋                           | 327 kB 19.5 MB/s eta 0:00:01\r\u001b[K     |████▊                           | 337 kB 19.5 MB/s eta 0:00:01\r\u001b[K     |████▉                           | 348 kB 19.5 MB/s eta 0:00:01\r\u001b[K     |█████                           | 358 kB 19.5 MB/s eta 0:00:01\r\u001b[K     |█████▏                          | 368 kB 19.5 MB/s eta 0:00:01\r\u001b[K     |█████▎                          | 378 kB 19.5 MB/s eta 0:00:01\r\u001b[K     |█████▌                          | 389 kB 19.5 MB/s eta 0:00:01\r\u001b[K     |█████▋                          | 399 kB 19.5 MB/s eta 0:00:01\r\u001b[K     |█████▊                          | 409 kB 19.5 MB/s eta 0:00:01\r\u001b[K     |██████                          | 419 kB 19.5 MB/s eta 0:00:01\r\u001b[K     |██████                          | 430 kB 19.5 MB/s eta 0:00:01\r\u001b[K     |██████▏                         | 440 kB 19.5 MB/s eta 0:00:01\r\u001b[K     |██████▎                         | 450 kB 19.5 MB/s eta 0:00:01\r\u001b[K     |██████▌                         | 460 kB 19.5 MB/s eta 0:00:01\r\u001b[K     |██████▋                         | 471 kB 19.5 MB/s eta 0:00:01\r\u001b[K     |██████▊                         | 481 kB 19.5 MB/s eta 0:00:01\r\u001b[K     |███████                         | 491 kB 19.5 MB/s eta 0:00:01\r\u001b[K     |███████                         | 501 kB 19.5 MB/s eta 0:00:01\r\u001b[K     |███████▏                        | 512 kB 19.5 MB/s eta 0:00:01\r\u001b[K     |███████▎                        | 522 kB 19.5 MB/s eta 0:00:01\r\u001b[K     |███████▌                        | 532 kB 19.5 MB/s eta 0:00:01\r\u001b[K     |███████▋                        | 542 kB 19.5 MB/s eta 0:00:01\r\u001b[K     |███████▊                        | 552 kB 19.5 MB/s eta 0:00:01\r\u001b[K     |████████                        | 563 kB 19.5 MB/s eta 0:00:01\r\u001b[K     |████████                        | 573 kB 19.5 MB/s eta 0:00:01\r\u001b[K     |████████▏                       | 583 kB 19.5 MB/s eta 0:00:01\r\u001b[K     |████████▍                       | 593 kB 19.5 MB/s eta 0:00:01\r\u001b[K     |████████▌                       | 604 kB 19.5 MB/s eta 0:00:01\r\u001b[K     |████████▋                       | 614 kB 19.5 MB/s eta 0:00:01\r\u001b[K     |████████▊                       | 624 kB 19.5 MB/s eta 0:00:01\r\u001b[K     |█████████                       | 634 kB 19.5 MB/s eta 0:00:01\r\u001b[K     |█████████                       | 645 kB 19.5 MB/s eta 0:00:01\r\u001b[K     |█████████▏                      | 655 kB 19.5 MB/s eta 0:00:01\r\u001b[K     |█████████▍                      | 665 kB 19.5 MB/s eta 0:00:01\r\u001b[K     |█████████▌                      | 675 kB 19.5 MB/s eta 0:00:01\r\u001b[K     |█████████▋                      | 686 kB 19.5 MB/s eta 0:00:01\r\u001b[K     |█████████▊                      | 696 kB 19.5 MB/s eta 0:00:01\r\u001b[K     |██████████                      | 706 kB 19.5 MB/s eta 0:00:01\r\u001b[K     |██████████                      | 716 kB 19.5 MB/s eta 0:00:01\r\u001b[K     |██████████▏                     | 727 kB 19.5 MB/s eta 0:00:01\r\u001b[K     |██████████▍                     | 737 kB 19.5 MB/s eta 0:00:01\r\u001b[K     |██████████▌                     | 747 kB 19.5 MB/s eta 0:00:01\r\u001b[K     |██████████▋                     | 757 kB 19.5 MB/s eta 0:00:01\r\u001b[K     |██████████▉                     | 768 kB 19.5 MB/s eta 0:00:01\r\u001b[K     |███████████                     | 778 kB 19.5 MB/s eta 0:00:01\r\u001b[K     |███████████                     | 788 kB 19.5 MB/s eta 0:00:01\r\u001b[K     |███████████▏                    | 798 kB 19.5 MB/s eta 0:00:01\r\u001b[K     |███████████▍                    | 808 kB 19.5 MB/s eta 0:00:01\r\u001b[K     |███████████▌                    | 819 kB 19.5 MB/s eta 0:00:01\r\u001b[K     |███████████▋                    | 829 kB 19.5 MB/s eta 0:00:01\r\u001b[K     |███████████▉                    | 839 kB 19.5 MB/s eta 0:00:01\r\u001b[K     |████████████                    | 849 kB 19.5 MB/s eta 0:00:01\r\u001b[K     |████████████                    | 860 kB 19.5 MB/s eta 0:00:01\r\u001b[K     |████████████▏                   | 870 kB 19.5 MB/s eta 0:00:01\r\u001b[K     |████████████▍                   | 880 kB 19.5 MB/s eta 0:00:01\r\u001b[K     |████████████▌                   | 890 kB 19.5 MB/s eta 0:00:01\r\u001b[K     |████████████▋                   | 901 kB 19.5 MB/s eta 0:00:01\r\u001b[K     |████████████▉                   | 911 kB 19.5 MB/s eta 0:00:01\r\u001b[K     |█████████████                   | 921 kB 19.5 MB/s eta 0:00:01\r\u001b[K     |█████████████                   | 931 kB 19.5 MB/s eta 0:00:01\r\u001b[K     |█████████████▎                  | 942 kB 19.5 MB/s eta 0:00:01\r\u001b[K     |█████████████▍                  | 952 kB 19.5 MB/s eta 0:00:01\r\u001b[K     |█████████████▌                  | 962 kB 19.5 MB/s eta 0:00:01\r\u001b[K     |█████████████▋                  | 972 kB 19.5 MB/s eta 0:00:01\r\u001b[K     |█████████████▉                  | 983 kB 19.5 MB/s eta 0:00:01\r\u001b[K     |██████████████                  | 993 kB 19.5 MB/s eta 0:00:01\r\u001b[K     |██████████████                  | 1.0 MB 19.5 MB/s eta 0:00:01\r\u001b[K     |██████████████▎                 | 1.0 MB 19.5 MB/s eta 0:00:01\r\u001b[K     |██████████████▍                 | 1.0 MB 19.5 MB/s eta 0:00:01\r\u001b[K     |██████████████▌                 | 1.0 MB 19.5 MB/s eta 0:00:01\r\u001b[K     |██████████████▋                 | 1.0 MB 19.5 MB/s eta 0:00:01\r\u001b[K     |██████████████▉                 | 1.1 MB 19.5 MB/s eta 0:00:01\r\u001b[K     |███████████████                 | 1.1 MB 19.5 MB/s eta 0:00:01\r\u001b[K     |███████████████                 | 1.1 MB 19.5 MB/s eta 0:00:01\r\u001b[K     |███████████████▎                | 1.1 MB 19.5 MB/s eta 0:00:01\r\u001b[K     |███████████████▍                | 1.1 MB 19.5 MB/s eta 0:00:01\r\u001b[K     |███████████████▌                | 1.1 MB 19.5 MB/s eta 0:00:01\r\u001b[K     |███████████████▊                | 1.1 MB 19.5 MB/s eta 0:00:01\r\u001b[K     |███████████████▉                | 1.1 MB 19.5 MB/s eta 0:00:01\r\u001b[K     |████████████████                | 1.1 MB 19.5 MB/s eta 0:00:01\r\u001b[K     |████████████████                | 1.1 MB 19.5 MB/s eta 0:00:01\r\u001b[K     |████████████████▎               | 1.2 MB 19.5 MB/s eta 0:00:01\r\u001b[K     |████████████████▍               | 1.2 MB 19.5 MB/s eta 0:00:01\r\u001b[K     |████████████████▌               | 1.2 MB 19.5 MB/s eta 0:00:01\r\u001b[K     |████████████████▊               | 1.2 MB 19.5 MB/s eta 0:00:01\r\u001b[K     |████████████████▉               | 1.2 MB 19.5 MB/s eta 0:00:01\r\u001b[K     |█████████████████               | 1.2 MB 19.5 MB/s eta 0:00:01\r\u001b[K     |█████████████████               | 1.2 MB 19.5 MB/s eta 0:00:01\r\u001b[K     |█████████████████▎              | 1.2 MB 19.5 MB/s eta 0:00:01\r\u001b[K     |█████████████████▍              | 1.2 MB 19.5 MB/s eta 0:00:01\r\u001b[K     |█████████████████▌              | 1.2 MB 19.5 MB/s eta 0:00:01\r\u001b[K     |█████████████████▊              | 1.3 MB 19.5 MB/s eta 0:00:01\r\u001b[K     |█████████████████▉              | 1.3 MB 19.5 MB/s eta 0:00:01\r\u001b[K     |██████████████████              | 1.3 MB 19.5 MB/s eta 0:00:01\r\u001b[K     |██████████████████▏             | 1.3 MB 19.5 MB/s eta 0:00:01\r\u001b[K     |██████████████████▎             | 1.3 MB 19.5 MB/s eta 0:00:01\r\u001b[K     |██████████████████▍             | 1.3 MB 19.5 MB/s eta 0:00:01\r\u001b[K     |██████████████████▌             | 1.3 MB 19.5 MB/s eta 0:00:01\r\u001b[K     |██████████████████▊             | 1.3 MB 19.5 MB/s eta 0:00:01\r\u001b[K     |██████████████████▉             | 1.3 MB 19.5 MB/s eta 0:00:01\r\u001b[K     |███████████████████             | 1.4 MB 19.5 MB/s eta 0:00:01\r\u001b[K     |███████████████████▏            | 1.4 MB 19.5 MB/s eta 0:00:01\r\u001b[K     |███████████████████▎            | 1.4 MB 19.5 MB/s eta 0:00:01\r\u001b[K     |███████████████████▍            | 1.4 MB 19.5 MB/s eta 0:00:01\r\u001b[K     |███████████████████▌            | 1.4 MB 19.5 MB/s eta 0:00:01\r\u001b[K     |███████████████████▊            | 1.4 MB 19.5 MB/s eta 0:00:01\r\u001b[K     |███████████████████▉            | 1.4 MB 19.5 MB/s eta 0:00:01\r\u001b[K     |████████████████████            | 1.4 MB 19.5 MB/s eta 0:00:01\r\u001b[K     |████████████████████▏           | 1.4 MB 19.5 MB/s eta 0:00:01\r\u001b[K     |████████████████████▎           | 1.4 MB 19.5 MB/s eta 0:00:01\r\u001b[K     |████████████████████▍           | 1.5 MB 19.5 MB/s eta 0:00:01\r\u001b[K     |████████████████████▋           | 1.5 MB 19.5 MB/s eta 0:00:01\r\u001b[K     |████████████████████▊           | 1.5 MB 19.5 MB/s eta 0:00:01\r\u001b[K     |████████████████████▉           | 1.5 MB 19.5 MB/s eta 0:00:01\r\u001b[K     |█████████████████████           | 1.5 MB 19.5 MB/s eta 0:00:01\r\u001b[K     |█████████████████████▏          | 1.5 MB 19.5 MB/s eta 0:00:01\r\u001b[K     |█████████████████████▎          | 1.5 MB 19.5 MB/s eta 0:00:01\r\u001b[K     |█████████████████████▍          | 1.5 MB 19.5 MB/s eta 0:00:01\r\u001b[K     |█████████████████████▋          | 1.5 MB 19.5 MB/s eta 0:00:01\r\u001b[K     |█████████████████████▊          | 1.5 MB 19.5 MB/s eta 0:00:01\r\u001b[K     |█████████████████████▉          | 1.6 MB 19.5 MB/s eta 0:00:01\r\u001b[K     |██████████████████████          | 1.6 MB 19.5 MB/s eta 0:00:01\r\u001b[K     |██████████████████████▏         | 1.6 MB 19.5 MB/s eta 0:00:01\r\u001b[K     |██████████████████████▎         | 1.6 MB 19.5 MB/s eta 0:00:01\r\u001b[K     |██████████████████████▍         | 1.6 MB 19.5 MB/s eta 0:00:01\r\u001b[K     |██████████████████████▋         | 1.6 MB 19.5 MB/s eta 0:00:01\r\u001b[K     |██████████████████████▊         | 1.6 MB 19.5 MB/s eta 0:00:01\r\u001b[K     |██████████████████████▉         | 1.6 MB 19.5 MB/s eta 0:00:01\r\u001b[K     |███████████████████████         | 1.6 MB 19.5 MB/s eta 0:00:01\r\u001b[K     |███████████████████████▏        | 1.6 MB 19.5 MB/s eta 0:00:01\r\u001b[K     |███████████████████████▎        | 1.7 MB 19.5 MB/s eta 0:00:01\r\u001b[K     |███████████████████████▍        | 1.7 MB 19.5 MB/s eta 0:00:01\r\u001b[K     |███████████████████████▋        | 1.7 MB 19.5 MB/s eta 0:00:01\r\u001b[K     |███████████████████████▊        | 1.7 MB 19.5 MB/s eta 0:00:01\r\u001b[K     |███████████████████████▉        | 1.7 MB 19.5 MB/s eta 0:00:01\r\u001b[K     |████████████████████████        | 1.7 MB 19.5 MB/s eta 0:00:01\r\u001b[K     |████████████████████████▏       | 1.7 MB 19.5 MB/s eta 0:00:01\r\u001b[K     |████████████████████████▎       | 1.7 MB 19.5 MB/s eta 0:00:01\r\u001b[K     |████████████████████████▍       | 1.7 MB 19.5 MB/s eta 0:00:01\r\u001b[K     |████████████████████████▋       | 1.8 MB 19.5 MB/s eta 0:00:01\r\u001b[K     |████████████████████████▊       | 1.8 MB 19.5 MB/s eta 0:00:01\r\u001b[K     |████████████████████████▉       | 1.8 MB 19.5 MB/s eta 0:00:01\r\u001b[K     |█████████████████████████       | 1.8 MB 19.5 MB/s eta 0:00:01\r\u001b[K     |█████████████████████████▏      | 1.8 MB 19.5 MB/s eta 0:00:01\r\u001b[K     |█████████████████████████▎      | 1.8 MB 19.5 MB/s eta 0:00:01\r\u001b[K     |█████████████████████████▌      | 1.8 MB 19.5 MB/s eta 0:00:01\r\u001b[K     |█████████████████████████▋      | 1.8 MB 19.5 MB/s eta 0:00:01\r\u001b[K     |█████████████████████████▊      | 1.8 MB 19.5 MB/s eta 0:00:01\r\u001b[K     |█████████████████████████▉      | 1.8 MB 19.5 MB/s eta 0:00:01\r\u001b[K     |██████████████████████████      | 1.9 MB 19.5 MB/s eta 0:00:01\r\u001b[K     |██████████████████████████▏     | 1.9 MB 19.5 MB/s eta 0:00:01\r\u001b[K     |██████████████████████████▎     | 1.9 MB 19.5 MB/s eta 0:00:01\r\u001b[K     |██████████████████████████▌     | 1.9 MB 19.5 MB/s eta 0:00:01\r\u001b[K     |██████████████████████████▋     | 1.9 MB 19.5 MB/s eta 0:00:01\r\u001b[K     |██████████████████████████▊     | 1.9 MB 19.5 MB/s eta 0:00:01\r\u001b[K     |██████████████████████████▉     | 1.9 MB 19.5 MB/s eta 0:00:01\r\u001b[K     |███████████████████████████     | 1.9 MB 19.5 MB/s eta 0:00:01\r\u001b[K     |███████████████████████████▏    | 1.9 MB 19.5 MB/s eta 0:00:01\r\u001b[K     |███████████████████████████▎    | 1.9 MB 19.5 MB/s eta 0:00:01\r\u001b[K     |███████████████████████████▌    | 2.0 MB 19.5 MB/s eta 0:00:01\r\u001b[K     |███████████████████████████▋    | 2.0 MB 19.5 MB/s eta 0:00:01\r\u001b[K     |███████████████████████████▊    | 2.0 MB 19.5 MB/s eta 0:00:01\r\u001b[K     |████████████████████████████    | 2.0 MB 19.5 MB/s eta 0:00:01\r\u001b[K     |████████████████████████████    | 2.0 MB 19.5 MB/s eta 0:00:01\r\u001b[K     |████████████████████████████▏   | 2.0 MB 19.5 MB/s eta 0:00:01\r\u001b[K     |████████████████████████████▎   | 2.0 MB 19.5 MB/s eta 0:00:01\r\u001b[K     |████████████████████████████▌   | 2.0 MB 19.5 MB/s eta 0:00:01\r\u001b[K     |████████████████████████████▋   | 2.0 MB 19.5 MB/s eta 0:00:01\r\u001b[K     |████████████████████████████▊   | 2.0 MB 19.5 MB/s eta 0:00:01\r\u001b[K     |█████████████████████████████   | 2.1 MB 19.5 MB/s eta 0:00:01\r\u001b[K     |█████████████████████████████   | 2.1 MB 19.5 MB/s eta 0:00:01\r\u001b[K     |█████████████████████████████▏  | 2.1 MB 19.5 MB/s eta 0:00:01\r\u001b[K     |█████████████████████████████▎  | 2.1 MB 19.5 MB/s eta 0:00:01\r\u001b[K     |█████████████████████████████▌  | 2.1 MB 19.5 MB/s eta 0:00:01\r\u001b[K     |█████████████████████████████▋  | 2.1 MB 19.5 MB/s eta 0:00:01\r\u001b[K     |█████████████████████████████▊  | 2.1 MB 19.5 MB/s eta 0:00:01\r\u001b[K     |██████████████████████████████  | 2.1 MB 19.5 MB/s eta 0:00:01\r\u001b[K     |██████████████████████████████  | 2.1 MB 19.5 MB/s eta 0:00:01\r\u001b[K     |██████████████████████████████▏ | 2.2 MB 19.5 MB/s eta 0:00:01\r\u001b[K     |██████████████████████████████▍ | 2.2 MB 19.5 MB/s eta 0:00:01\r\u001b[K     |██████████████████████████████▌ | 2.2 MB 19.5 MB/s eta 0:00:01\r\u001b[K     |██████████████████████████████▋ | 2.2 MB 19.5 MB/s eta 0:00:01\r\u001b[K     |██████████████████████████████▊ | 2.2 MB 19.5 MB/s eta 0:00:01\r\u001b[K     |███████████████████████████████ | 2.2 MB 19.5 MB/s eta 0:00:01\r\u001b[K     |███████████████████████████████ | 2.2 MB 19.5 MB/s eta 0:00:01\r\u001b[K     |███████████████████████████████▏| 2.2 MB 19.5 MB/s eta 0:00:01\r\u001b[K     |███████████████████████████████▍| 2.2 MB 19.5 MB/s eta 0:00:01\r\u001b[K     |███████████████████████████████▌| 2.2 MB 19.5 MB/s eta 0:00:01\r\u001b[K     |███████████████████████████████▋| 2.3 MB 19.5 MB/s eta 0:00:01\r\u001b[K     |███████████████████████████████▊| 2.3 MB 19.5 MB/s eta 0:00:01\r\u001b[K     |████████████████████████████████| 2.3 MB 19.5 MB/s eta 0:00:01\r\u001b[K     |████████████████████████████████| 2.3 MB 19.5 MB/s \n",
            "\u001b[?25hRequirement already satisfied: numpy in /usr/local/lib/python3.7/dist-packages (from biopython) (1.19.5)\n",
            "Installing collected packages: biopython\n",
            "Successfully installed biopython-1.79\n"
          ]
        }
      ]
    },
    {
      "cell_type": "markdown",
      "source": [
        "## Аннотация генома"
      ],
      "metadata": {
        "id": "EJIw_JDLUgt5"
      }
    },
    {
      "cell_type": "markdown",
      "source": [
        "Biopython Tutorial: http://biopython.org/DIST/docs/tutorial/Tutorial.html"
      ],
      "metadata": {
        "id": "qhxlclhoYhBh"
      }
    },
    {
      "cell_type": "code",
      "source": [
        "from Bio import SeqIO\n",
        "from pprint import pprint\n",
        "from Bio.SeqFeature import SeqFeature, FeatureLocation\n",
        "import pandas as pd"
      ],
      "metadata": {
        "id": "qd_VmSbTBTU8"
      },
      "execution_count": 9,
      "outputs": []
    },
    {
      "cell_type": "code",
      "source": [
        "!head -n 20 gms2.lst"
      ],
      "metadata": {
        "id": "G33GF-iGU9Ka",
        "colab": {
          "base_uri": "https://localhost:8080/"
        },
        "outputId": "2cc49718-1d48-4fbe-9558-de8de16e1c7b"
      },
      "execution_count": 10,
      "outputs": [
        {
          "output_type": "stream",
          "name": "stdout",
          "text": [
            "# GeneMark.hmm-2 LST format\n",
            "# GeneMark.hmm-2 prokaryotic version: 1.25_lic\n",
            "# File with sequence: Poil_scaffold.fa\n",
            "# File with native parameters: GMS2.mod\n",
            "# Native species name and build: unspecified GeneMarkS-2-1.14_1.25_lic\n",
            "# File with MetaGeneMark parameters: /content/gms2_linux_64/mgm_11.mod\n",
            "# translation table: 11\n",
            "# output date start: Sun Dec 19 07:15:07 2021\n",
            "\n",
            "# sequence-region 1 3834480\n",
            "SequenceID: scaffold1_len3834450_cov231\n",
            "     1   -   <3    323     321 native GAGGTG 4 1\n",
            "     2   -    396    839     444 atypical AGCGAG 6 1\n",
            "     3   -    864    1385     522 atypical CAGGAA 7 1\n",
            "     4   -    1823    2650     828 atypical CAGGAT 10 1\n",
            "     5   +    2996    3118     123 native TTGGAG 7 1\n",
            "     6   -    3293    4027     735 native CAGGTC 8 1\n",
            "     7   -    4365    5540    1176 native TAGGAG 9 1\n",
            "     8   -    5565    7712    2148 native GTGGAG 8 1\n",
            "     9   +    8081    8875     795 native AAGTAG 6 1\n"
          ]
        }
      ]
    },
    {
      "cell_type": "code",
      "metadata": {
        "id": "1hegJvwMIiPe"
      },
      "source": [
        "Scaf_bank = {}\n",
        "for record in SeqIO.parse(\"/content/Poil_scaffold.fa\", \"fasta\"):\n",
        "  record.annotations['molecule_type'] = 'DNA'\n",
        "  Scaf_bank[record.id] = record"
      ],
      "execution_count": 11,
      "outputs": []
    },
    {
      "cell_type": "markdown",
      "source": [
        "## Добавляем координаты и трансляции генов"
      ],
      "metadata": {
        "id": "nuikKeO1bL7N"
      }
    },
    {
      "cell_type": "code",
      "metadata": {
        "id": "4cXKMhtmYZ9t"
      },
      "source": [
        "gen_bank = {}\n",
        "for gene in SeqIO.parse(\"/content/proteins.fasta\", \"fasta\"):\n",
        "  gen_desc = gene.description.split()\n",
        "  if gen_desc[4] == \"-\":\n",
        "    gen_desc[4] = -1 \n",
        "  elif gen_desc[4] == \"+\": \n",
        "    gen_desc[4] = 1\n",
        "  feature = SeqFeature(FeatureLocation(int(gen_desc[2]), int(gen_desc[3]), strand = gen_desc[4]), type=\"CDS\")\n",
        "  feature.qualifiers['locus_tag'] = [gen_desc[0]]\n",
        "  feature.qualifiers['translation'] = [gene.seq]\n",
        "  gen_bank[gen_desc[0]] = feature\n",
        "  Scaf_bank[gen_desc[1]].features.append(feature) \n"
      ],
      "execution_count": 12,
      "outputs": []
    },
    {
      "cell_type": "markdown",
      "source": [
        "## Добавляем функции белков (из бактерии MIL-1)"
      ],
      "metadata": {
        "id": "D2UNiwEyet54"
      }
    },
    {
      "cell_type": "code",
      "source": [
        "mil_1_genome = SeqIO.read(\"/content/T_oleivorans_MIL_1.gbk\", \"genbank\")"
      ],
      "metadata": {
        "id": "MxKSgTvihLIY"
      },
      "execution_count": 13,
      "outputs": []
    },
    {
      "cell_type": "code",
      "metadata": {
        "id": "4EDCGDdmZt8O"
      },
      "source": [
        "mil_1 = {}\n",
        "for  mil_f in mil_1_genome.features:\n",
        "  if 'protein_id' not in mil_f.qualifiers:\n",
        "    continue\n",
        "  if 'product' not in mil_f.qualifiers:\n",
        "    continue\n",
        "  mil_1[mil_f.qualifiers['protein_id'][0]] = mil_f.qualifiers['product'][0]\n"
      ],
      "execution_count": 14,
      "outputs": []
    },
    {
      "cell_type": "code",
      "source": [
        "hits = pd.read_csv('scaffolds.hits_from_MIL_1.txt', sep=\"\\t\", header=None)\n",
        "hits = hits.rename({0: 'id', 1: 'name', 10: 'value'}, axis=1)\n",
        "hits = hits.sort_values('value')\n",
        "hits = hits.drop_duplicates('id')\n",
        "hits = hits[hits['name'].str.contains(\"CU\")]"
      ],
      "metadata": {
        "id": "lODnLnyDwqZ3"
      },
      "execution_count": 15,
      "outputs": []
    },
    {
      "cell_type": "code",
      "source": [
        "for index, row in hits.iterrows():\n",
        "  gen_bank[str(row['id'])].qualifiers['product'] = [mil_1[row['name'].split('_')[2]]]"
      ],
      "metadata": {
        "id": "LrkqAEZN3qlf"
      },
      "execution_count": 16,
      "outputs": []
    },
    {
      "cell_type": "markdown",
      "source": [
        "## Добавляем функции белков (из БД SwissProt)"
      ],
      "metadata": {
        "id": "Pr5GctSQxlsQ"
      }
    },
    {
      "cell_type": "markdown",
      "source": [
        "Читаем информацию из файла scaffolds.hits_from_SwissProt.txt"
      ],
      "metadata": {
        "id": "xLafv2r8xo6P"
      }
    },
    {
      "cell_type": "code",
      "source": [
        "s_hits = pd.read_csv('scaffolds.hits_from_SwissProt.txt', sep=\"\\t\", header=None)\n",
        "s_hits = s_hits.rename({0: 'id', 1: 'name', 10: 'value'}, axis=1)\n",
        "s_hits = s_hits.sort_values('value')\n",
        "s_hits = s_hits.drop_duplicates('id')"
      ],
      "metadata": {
        "id": "_bHOMEqhxvDd"
      },
      "execution_count": 17,
      "outputs": []
    },
    {
      "cell_type": "code",
      "source": [
        "for index,row in s_hits.iterrows():\n",
        "  gen_bank[str(row['id'])].qualifiers['product'] = 'Similar to SwissProt protein ' + str(row['name'].split('|')[2]) + ' (E-value = ' + str(row['value']) + ')'"
      ],
      "metadata": {
        "id": "ck0CJ8BNIShB"
      },
      "execution_count": 18,
      "outputs": []
    },
    {
      "cell_type": "code",
      "source": [
        "SeqIO.write(Scaf_bank.values(), 'GENOME.gbk', 'genbank')"
      ],
      "metadata": {
        "colab": {
          "base_uri": "https://localhost:8080/"
        },
        "id": "RN9HzWUxGPNR",
        "outputId": "b6772b83-6fc7-4c07-e981-890eb768caa4"
      },
      "execution_count": 19,
      "outputs": [
        {
          "output_type": "stream",
          "name": "stderr",
          "text": [
            "/usr/local/lib/python3.7/dist-packages/Bio/SeqIO/InsdcIO.py:730: BiopythonWarning: Increasing length of locus line to allow long name. This will result in fields that are not in usual positions.\n",
            "  BiopythonWarning,\n"
          ]
        },
        {
          "output_type": "execute_result",
          "data": {
            "text/plain": [
              "71"
            ]
          },
          "metadata": {},
          "execution_count": 19
        }
      ]
    },
    {
      "cell_type": "markdown",
      "source": [
        "Бонус не выполнен :("
      ],
      "metadata": {
        "id": "HWWUeHCdyAdb"
      }
    }
  ]
}